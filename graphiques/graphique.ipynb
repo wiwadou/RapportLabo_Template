{
 "cells": [
  {
   "cell_type": "markdown",
   "metadata": {},
   "source": [
    "Graphiques utiles pour des rapports de lab."
   ]
  },
  {
   "cell_type": "code",
   "execution_count": 2,
   "metadata": {},
   "outputs": [],
   "source": [
    "import pandas as pd\n",
    "import numpy as np\n",
    "import tifffile\n",
    "import matplotlib.pyplot as plt"
   ]
  },
  {
   "cell_type": "markdown",
   "metadata": {},
   "source": [
    "Classe parent"
   ]
  },
  {
   "cell_type": "code",
   "execution_count": 16,
   "metadata": {},
   "outputs": [
    {
     "name": "stdout",
     "output_type": "stream",
     "text": [
      "            t          x         x'\n",
      "0      0.0000   0.000000  10.000000\n",
      "1      0.1001   0.999896   9.996875\n",
      "2      0.2002   1.999167   9.987503\n",
      "3      0.3003   2.997188   9.971888\n",
      "4      0.4004   3.993337   9.950042\n",
      "..        ...        ...        ...\n",
      "995   99.5996 -10.195885   9.669682\n",
      "996   99.6997  -9.225831   9.730378\n",
      "997   99.7998  -8.250012   9.784993\n",
      "998   99.8999  -7.269037   9.833492\n",
      "999  100.0000  -6.283518   9.875846\n",
      "\n",
      "[1000 rows x 3 columns]\n"
     ]
    }
   ],
   "source": [
    "class Graphique:\n",
    "\n",
    "    def __init__(self, data):\n",
    "            self.data = pd.read_csv(r\"C:\\Users\\yohan\\OneDrive\\Bureau\\ProgFest\\Lundi 7 mars\\Formation_1_GraphiquePython\\Visualisation\\data\\oscillateur_harmonique.csv\")\n",
    "            if type(data) is not pd.read_csv:\n",
    "                raise ValueError('Le code peut uniquement lire des fichiers de type \".csv\".')\n",
    "\n",
    "    def oscillateur_tx(self):\n",
    "        temps = self.data.t\n",
    "        position = self.data.x\n",
    "        plt.scatter(temps, position)\n",
    "        plt.show()\n",
    "\n",
    "    def nuage_point_yx(self):\n",
    "        return None\n",
    "\n",
    "print(data_oscillateur)"
   ]
  },
  {
   "cell_type": "code",
   "execution_count": 10,
   "metadata": {},
   "outputs": [
    {
     "name": "stdout",
     "output_type": "stream",
     "text": [
      "            t          x         x'\n",
      "0      0.0000   0.000000  10.000000\n",
      "1      0.1001   0.999896   9.996875\n",
      "2      0.2002   1.999167   9.987503\n",
      "3      0.3003   2.997188   9.971888\n",
      "4      0.4004   3.993337   9.950042\n",
      "..        ...        ...        ...\n",
      "995   99.5996 -10.195885   9.669682\n",
      "996   99.6997  -9.225831   9.730378\n",
      "997   99.7998  -8.250012   9.784993\n",
      "998   99.8999  -7.269037   9.833492\n",
      "999  100.0000  -6.283518   9.875846\n",
      "\n",
      "[1000 rows x 3 columns]\n"
     ]
    },
    {
     "data": {
      "image/png": "[encoded data removed]",
      "text/plain": [
       "<Figure size 432x288 with 1 Axes>"
      ]
     },
     "metadata": {
      "needs_background": "light"
     },
     "output_type": "display_data"
    }
   ],
   "source": [
    "import pandas as pd # On importe pandas, sinon on ne peut rien faire!\n",
    "import numpy as np\n",
    "import tifffile\n",
    "import matplotlib.pyplot as plt\n",
    "\n",
    "\n",
    "data_oscillateur = pd.read_csv(r\"C:\\Users\\yohan\\OneDrive\\Bureau\\ProgFest\\Lundi 7 mars\\Formation_1_GraphiquePython\\Visualisation\\data\\oscillateur_harmonique.csv\") # Tous les autres arguments sont corrects par défaut\n",
    "\n",
    "print(data_oscillateur) # Voir de quoi ça à l'air!\n",
    "\n",
    "temps = data_oscillateur.t # On utilise le nom des colonnes pour accéder aux données, une autre force de Pandas\n",
    "position = data_oscillateur.x\n",
    "\n",
    "plt.scatter(temps, position) # Prépare le graphique\n",
    "\n",
    "plt.show() # Affiche le graphique"
   ]
  }
 ],
 "metadata": {
  "interpreter": {
   "hash": "228b3368d03944bf38723bbe5972aa727a269364c0d355ced690dac33486106c"
  },
  "kernelspec": {
   "display_name": "Python 3.10.2 64-bit",
   "language": "python",
   "name": "python3"
  },
  "language_info": {
   "codemirror_mode": {
    "name": "ipython",
    "version": 3
   },
   "file_extension": ".py",
   "mimetype": "text/x-python",
   "name": "python",
   "nbconvert_exporter": "python",
   "pygments_lexer": "ipython3",
   "version": "3.10.2"
  },
  "orig_nbformat": 4
 },
 "nbformat": 4,
 "nbformat_minor": 2
}
