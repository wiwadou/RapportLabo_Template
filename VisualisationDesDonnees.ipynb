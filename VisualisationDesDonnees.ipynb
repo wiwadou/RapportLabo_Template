{
 "cells": [
  {
   "cell_type": "markdown",
   "metadata": {
    "slideshow": {
     "slide_type": "slide"
    }
   },
   "source": [
    "# Visualisation des données: Faire des graphiques 101\n",
    "![Matplotlib Logo](https://matplotlib.org/stable/_static/logo2.svg \"Matplotlib\")\n",
    "<img src=\"https://upload.wikimedia.org/wikipedia/commons/thumb/c/c3/Python-logo-notext.svg/640px-Python-logo-notext.svg.png\" alt=\"Python Logo\" style=\"width: 200px;\"/>\n",
    "<img src=\"http://www.dcclab.ca/wp-content/uploads/2021/12/image-1536x372.png\" alt=\"ProgFest\" style=\"width: 500px\">"
   ]
  },
  {
   "cell_type": "markdown",
   "metadata": {
    "slideshow": {
     "slide_type": "subslide"
    }
   },
   "source": [
    " ## Outils de graphiques avec *Python*\n",
    " Avec *Python*, on peut mentionner:\n",
    " - *Matplotlib* avec son sous-module *pyplot*\n",
    " - *Plotly*\n",
    " - *Seaborn* (qui repose sur *matplotlib*)\n",
    " \n",
    "mais nous étudirons seulement *pyplot*, car c'est le plus utilisé et (selon moi) le plus simple à apprendre. Étant donné qu'il s'agit d'une introduction, nous n'irons pas dans les grand détails de *matplotlib*, ni dans l'utilisation de *seaborn* (qui n'est pas vraiment plus compliquée).\n",
    "\n",
    "## Avant de débuter\n",
    "Si vous voulez refaire les activités, s'assurer d'avoir:\n",
    "- *NumPy* (`pip install numpy`)\n",
    "- *matplotlib* (`pip install matplotlib`)\n",
    "- *tifffile* (`pip install tifffile`)\n",
    "- *Pandas* (`pip install pandas`)"
   ]
  },
  {
   "cell_type": "markdown",
   "metadata": {
    "slideshow": {
     "slide_type": "subslide"
    }
   },
   "source": [
    "## Plan de la présentation (après mise en contexte)\n",
    "1. Lecture de fichiers\n",
    "    - Fichiers de données de type texte\n",
    "    - Images\n",
    "2. Afficher les données\n",
    "    - Nuage de points\n",
    "    - Points reliés\n",
    "    - Histogramme\n",
    "    - Image\n",
    "3. Modifier les graphiques\n",
    "    - Modifier les couleurs et autres éléments visuels\n",
    "    - Ajouter une légende\n",
    "    - Modifier les titres d'axes\n",
    "4. Sauvegarder les graphiques\n",
    "    - Différents formats\n",
    "    - Autres paramètres\n",
    "    - Sauvegarder une image\n",
    "5. Un pas plus loin\n",
    "    - Plusieurs graphiques dans un\n",
    "    - *subplots*\n",
    "    - Graphiques 3D"
   ]
  },
  {
   "cell_type": "markdown",
   "metadata": {
    "slideshow": {
     "slide_type": "slide"
    }
   },
   "source": [
    "## Lecture de fichiers\n",
    "### Fichiers de données de type texte\n",
    "Il existe principalement deux types de formats de fichiers:\n",
    "1. Ceux qu'on peut lire (ex: CSV, XML, JSON, ...)\n",
    "2. Ceux qu'on ne peut pas lire (ex: HDF5, PNG, fichier binaire, ...)\n",
    "\n",
    "On aime beaucoup les fichiers CSV[^1], notamment grâce à leur simplicité. La plupart des fichiers textes se lisent assez facilement (on peut nous-mêmes faire l'algorithme de lecture, car on peut les comprendre simplement en lisant le fichier)\n",
    "\n",
    "Alors que les autres formats... sont plus complexes. Il faut souvent \"decrypter\" les caractères utilisés, convertir en données qu'on peut comprendre. C'est pourquoi il faut privilégier des modules qui le font à notre place.\n",
    "\n",
    "[^1]: Par contre, on peut privilégier un JSON si c'est dans notre besoin!"
   ]
  },
  {
   "cell_type": "markdown",
   "metadata": {
    "slideshow": {
     "slide_type": "subslide"
    }
   },
   "source": [
    "Pour lire un fichier texte, on peut utiliser notamment *NumPy* ou *Pandas*. Dans notre cas, on va utiliser *Pandas*, mais pas trop entrer dans les détails, car cela nous prendrait encore beaucoup de temps, pratiquement une période allouée à ce module. On va simplement se concentrer sur `read_csv` qui nous permet de lire des fichiers CSV. Dans notre cas, on a simplement besoin de spécifier le chemin. Attention, si, par exemple, pas d'en-tête, s'occuper de ce cas particulier pour ne pas perdre de données"
   ]
  },
  {
   "cell_type": "code",
   "execution_count": null,
   "metadata": {
    "slideshow": {
     "slide_type": "subslide"
    }
   },
   "outputs": [],
   "source": [
    "import pandas as pd # On importe pandas, sinon on ne peut rien faire!\n",
    "import numpy as np\n",
    "import tifffile\n",
    "import matplotlib.pyplot as plt\n",
    "\n",
    "data_oscillateur = pd.read_csv(\"..\\data\\oscillateur_harmonique.csv\") # Tous les autres arguments sont corrects par défaut\n",
    "\n",
    "print(data_oscillateur) # Voir de quoi ça à l'air!"
   ]
  },
  {
   "cell_type": "markdown",
   "metadata": {
    "slideshow": {
     "slide_type": "subslide"
    }
   },
   "source": [
    "Maintenant, on sait comment lire un fichier CSV. Si on veut lire un JSON? On peut aussi passer par *Pandas* avec `read_json`. On peut même lire des fichiers Excel, html, xml, hdf, etc. *Pandas* est vraiment utile."
   ]
  },
  {
   "cell_type": "markdown",
   "metadata": {
    "slideshow": {
     "slide_type": "slide"
    }
   },
   "source": [
    "### Fichiers de type image\n",
    "*Pandas* ne peut (malheureusement ou pas) pas lire des fichiers d'image. Par contre, il existe plein d'autres modules qui peuvent nous aider dans cette tâche. Tout dépend par contre du format de l'image. Les plus utilisés, PNG et JPEG, peuvent être lus directement avec *matplotlib* avec `pyplot.imread`, mais si on a un format plus *exotique*, je préfère utiliser un module qui est fait seulement pour le format. Par exemple, j'utilise *tifffile* pour lire les fichiers TIFF, fichiers souvent utilisé pour garder des images sans (ou avec) compression de grande qualité. Voyons donc comment lire deux images différentes: un PNG et un TIFF.\n",
    "\n",
    "Nous ne verrons pas vraiment les arguments supplémentaires, car ils ne sont pas pertinents pour débuter. En fait, ils sont **très** spécifiques à des cas qu'on ne voit pas ou rarement. Il faut savoir que les deux méthodes qui seront vues retournent un *array* *NumPy* (une matrice essentiellement sur laquelle on peut faire plein d'opérations et transformations mathématiques)."
   ]
  },
  {
   "cell_type": "code",
   "execution_count": null,
   "metadata": {
    "scrolled": true,
    "slideshow": {
     "slide_type": "subslide"
    }
   },
   "outputs": [],
   "source": [
    "sinus = plt.imread(\"../data/testSinus.png\")\n",
    "speckles = tifffile.imread(\"../data/testSpeckles.tiff\")\n",
    "\n",
    "print(sinus.shape) # On veut voir la \"taille\" des images\n",
    "print(speckles.shape)"
   ]
  },
  {
   "cell_type": "markdown",
   "metadata": {
    "slideshow": {
     "slide_type": "slide"
    }
   },
   "source": [
    "## Afficher les données\n",
    "### Nuage de points\n",
    "Faire un nuage de points avec *matplotlib* est probablement la méthode la plus simple (bien que les points reliés sont aussi très simples, un nuage de points est très *naïf*). On a seulement besoin des coordonnées $x$ et $y$, ainsi que de la fonction `pyplot.scatter`."
   ]
  },
  {
   "cell_type": "code",
   "execution_count": null,
   "metadata": {
    "slideshow": {
     "slide_type": "subslide"
    }
   },
   "outputs": [],
   "source": [
    "%matplotlib notebook\n",
    "\n",
    "temps = data_oscillateur.t # On utilise le nom des colonnes pour accéder aux données, une autre force de Pandas\n",
    "position = data_oscillateur.x\n",
    "\n",
    "plt.scatter(temps, position) # Prépare le graphique\n",
    "\n",
    "plt.show() # Affiche le graphique"
   ]
  },
  {
   "cell_type": "markdown",
   "metadata": {
    "slideshow": {
     "slide_type": "subslide"
    }
   },
   "source": [
    "### Points reliés\n",
    "On remarque que les données sont ordonnées et qu'elles seraient mieux dans un graphique à points reliés. On va donc utiliser `pyplot.plot` avec les mêmes données:"
   ]
  },
  {
   "cell_type": "code",
   "execution_count": null,
   "metadata": {
    "slideshow": {
     "slide_type": "subslide"
    }
   },
   "outputs": [],
   "source": [
    "%matplotlib notebook\n",
    "plt.plot(temps, position)\n",
    "\n",
    "plt.show()"
   ]
  },
  {
   "cell_type": "markdown",
   "metadata": {
    "slideshow": {
     "slide_type": "subslide"
    }
   },
   "source": [
    "On remarque qu'on a simplement une ligne \"continue\", sans marqueurs pour les points comme on  avait avant. On verra plus tard comment ajouter des marqueurs dans un graphique de points reliés.\n",
    "\n",
    "\n",
    "### Histogramme\n",
    "Un histogramme est un outils de visualisation très utile lorsqu'on étudie les probabilités et statistiques. On peut notamment évaluer visuellement quel type de loi de probabilité suit un processus quelconque, ainsi que des quantité comme la moyenne, l'écart-type, la médiane, le mode, etc. Pour voir à quoi ressemble un histogramme, nous allons charger en mémoire un autre ensemble de données. Ces données sont tirées aléatoirement d'une distribution normale (Gaussienne) et nous tenterons d'évaluer la moyenne et l'écart-type."
   ]
  },
  {
   "cell_type": "code",
   "execution_count": null,
   "metadata": {
    "slideshow": {
     "slide_type": "subslide"
    }
   },
   "outputs": [],
   "source": [
    "%matplotlib inline\n",
    "data_gauss = pd.read_csv(\"../data/nuageGauss_big.csv\")\n",
    "\n",
    "plt.scatter(data_gauss.x, data_gauss.y)\n",
    "\n",
    "plt.show()"
   ]
  },
  {
   "cell_type": "code",
   "execution_count": null,
   "metadata": {
    "slideshow": {
     "slide_type": "subslide"
    }
   },
   "outputs": [],
   "source": [
    "plt.hist(data_gauss.y)\n",
    "\n",
    "plt.show()"
   ]
  },
  {
   "cell_type": "markdown",
   "metadata": {
    "slideshow": {
     "slide_type": "subslide"
    }
   },
   "source": [
    "Un argument important de `plt.hist` est le nombre de bins (ou les bins en général). Cet argument aide à augmenter la qualité de l'histogramme, notamment en le rendant plus précis. Un bon estimé est $\\sqrt{n}$ où $n$ est le nombre de points. De plus, on peut aussi normaliser l'histogramme pour qu'il représente une densité de probabilité (l'aire sous la courbe est 1). Cet action peut donner un sens statistique à ce qu'on affiche. Voici comment procéder:"
   ]
  },
  {
   "cell_type": "code",
   "execution_count": null,
   "metadata": {
    "slideshow": {
     "slide_type": "subslide"
    }
   },
   "outputs": [],
   "source": [
    "y = data_gauss.y\n",
    "plt.hist(y, bins=int(len(y) ** 0.5), density=True)\n",
    "\n",
    "plt.show()"
   ]
  },
  {
   "cell_type": "markdown",
   "metadata": {
    "slideshow": {
     "slide_type": "subslide"
    }
   },
   "source": [
    "### Image\n",
    "On peut afficher une image (autant en nuances de gris qu'en RGBA) grâce à *matplotlib*. Ce n'est pas bien compliqué! Une fois l'image en mémoire, il ne suffit que d'utiliser `pyplot.imshow` et le tour est joué!"
   ]
  },
  {
   "cell_type": "code",
   "execution_count": null,
   "metadata": {
    "slideshow": {
     "slide_type": "subslide"
    }
   },
   "outputs": [],
   "source": [
    "plt.imshow(sinus)\n",
    "\n",
    "plt.show()"
   ]
  },
  {
   "cell_type": "code",
   "execution_count": null,
   "metadata": {
    "slideshow": {
     "slide_type": "subslide"
    }
   },
   "outputs": [],
   "source": [
    "plt.imshow(speckles)\n",
    "\n",
    "plt.show()"
   ]
  },
  {
   "cell_type": "markdown",
   "metadata": {
    "slideshow": {
     "slide_type": "subslide"
    }
   },
   "source": [
    "Dans le cas précédent, l'image est en nuances de gris, donc par défaut *matplotlib* lui affecte un gradient de couleur par défaut. Pour avoir l'image originale est nuances de gris (ou en autre *colormap*, il en existe plein), il faut utiliser l'argument `cmap`:"
   ]
  },
  {
   "cell_type": "code",
   "execution_count": null,
   "metadata": {
    "slideshow": {
     "slide_type": "subslide"
    }
   },
   "outputs": [],
   "source": [
    "plt.imshow(speckles, cmap=\"gray\")\n",
    "\n",
    "plt.show()"
   ]
  },
  {
   "cell_type": "markdown",
   "metadata": {
    "slideshow": {
     "slide_type": "slide"
    }
   },
   "source": [
    "## Modifier les graphiques\n",
    "On peut modifier les graphiques à sa guise avec *matplotlib*, notamment en changeant les couleurs, les marqueurs, les axes et les ticks des axes. On peut même ajouter du texte! Voci comment changer la couleur de la plupart des graphiques:\n",
    "- `color`: argument auquel on passe une couleur (en mot ou en hexadecimal)"
   ]
  },
  {
   "cell_type": "code",
   "execution_count": null,
   "metadata": {
    "slideshow": {
     "slide_type": "subslide"
    }
   },
   "outputs": [],
   "source": [
    "plt.plot(temps, position, color=\"#ff6699\")\n",
    "plt.show()\n",
    "plt.plot(temps, position, color=\"green\")\n",
    "plt.show()"
   ]
  },
  {
   "cell_type": "markdown",
   "metadata": {
    "slideshow": {
     "slide_type": "subslide"
    }
   },
   "source": [
    "On a aussi parlé du fait que `scatter` affiche les marqueurs, mais que `plot` ne le fait pas. On peut arranger le problème. Par défaut `plot` ne les affiche pas, mais on peut le faire."
   ]
  },
  {
   "cell_type": "code",
   "execution_count": null,
   "metadata": {
    "slideshow": {
     "slide_type": "subslide"
    }
   },
   "outputs": [],
   "source": [
    "%matplotlib notebook\n",
    "plt.plot(temps, position, marker=\"+\")\n",
    "plt.show()"
   ]
  },
  {
   "cell_type": "markdown",
   "metadata": {
    "slideshow": {
     "slide_type": "subslide"
    }
   },
   "source": [
    "Puis, on peut aussi modifier le type de ligne qui rejoint les points"
   ]
  },
  {
   "cell_type": "code",
   "execution_count": null,
   "metadata": {
    "slideshow": {
     "slide_type": "subslide"
    }
   },
   "outputs": [],
   "source": [
    "%matplotlib inline\n",
    "plt.plot(temps, position, linestyle=\"--\")\n",
    "plt.show()\n",
    "plt.plot(temps, position, linestyle=\"dotted\")\n",
    "plt.show()"
   ]
  },
  {
   "cell_type": "markdown",
   "metadata": {
    "slideshow": {
     "slide_type": "subslide"
    }
   },
   "source": [
    "On peut bien sûr mélanger les marqueurs avec différentes couleurs et différentes lignes. On peut changer la taille des marqueur avec `ms` (`plot`) ou `s` (`scatter`), l'épaisseur des lignes avec `linewidth` (ou `lw`). On peut aussi changer la transparence avec `alpha`."
   ]
  },
  {
   "cell_type": "code",
   "execution_count": null,
   "metadata": {
    "slideshow": {
     "slide_type": "subslide"
    }
   },
   "outputs": [],
   "source": [
    "data_x = np.array([1,10, 23, 24])\n",
    "data_y = np.array([10, 7, 3, 10])\n",
    "\n",
    "plt.plot(data_x, data_y, linestyle=\":\", marker=\"<\", color=\"orange\", ms=20, alpha=0.9)\n",
    "plt.show()"
   ]
  },
  {
   "cell_type": "markdown",
   "metadata": {
    "slideshow": {
     "slide_type": "subslide"
    }
   },
   "source": [
    "À noter que `color` fonctionne aussi pour `pyplot.hist`, mais que les autres n'ont pas vraiment de sens avec les barres (ou l'histogram en général). On peut par contre modifier l'épaisseur des barres, ou même ne pas avoir de barres:"
   ]
  },
  {
   "cell_type": "code",
   "execution_count": null,
   "metadata": {
    "slideshow": {
     "slide_type": "subslide"
    }
   },
   "outputs": [],
   "source": [
    "plt.hist(data_gauss.y, bins=20, color=\"black\", alpha=0.5, orientation=\"vertical\", histtype=\"step\", linestyle=\"--\")\n",
    "plt.show()"
   ]
  },
  {
   "cell_type": "markdown",
   "metadata": {
    "slideshow": {
     "slide_type": "slide"
    }
   },
   "source": [
    "### Ajouter une légende\n",
    "Une légende est souvent très utile lorsqu'on fait un graphique, surtout lorsqu'on a plusieurs courbes sur un même graphique. On a premièrement besoin de donner un *label* à nos courbes (i.e. donner `label=<...>` en argument à `plot`, `imshow`, etc. Puis, on doit ajouter `plt.legend()` pour afficher la légende, sinon elle ne sera pas là."
   ]
  },
  {
   "cell_type": "code",
   "execution_count": null,
   "metadata": {
    "slideshow": {
     "slide_type": "subslide"
    }
   },
   "outputs": [],
   "source": [
    "plt.plot([1,2,3], [1,2,3], label=\"Test\", color=\"red\", linestyle=\"--\")\n",
    "plt.legend()\n",
    "plt.show()"
   ]
  },
  {
   "cell_type": "markdown",
   "metadata": {
    "slideshow": {
     "slide_type": "slide"
    }
   },
   "source": [
    "### Modifier les titres d'axes\n",
    "Jusqu'à maintenant, on ne s'est pas occupé des titres d'axes. En fait, par défaut il n'y en a pas qui sont affichés. Voici donc comment les ajouter:"
   ]
  },
  {
   "cell_type": "code",
   "execution_count": null,
   "metadata": {
    "slideshow": {
     "slide_type": "subslide"
    }
   },
   "outputs": [],
   "source": [
    "plt.plot(temps, position)\n",
    "plt.xlabel(\"Temps [s]\")\n",
    "plt.ylabel(\"Position [cm]\")\n",
    "plt.show()"
   ]
  },
  {
   "cell_type": "markdown",
   "metadata": {
    "slideshow": {
     "slide_type": "subslide"
    }
   },
   "source": [
    "Il est à noter que *matplotlib* peut comprendre LaTeX (jusqu'à un certain point) pour ce qui est du texte en général. Par exemple:"
   ]
  },
  {
   "cell_type": "code",
   "execution_count": null,
   "metadata": {
    "slideshow": {
     "slide_type": "subslide"
    }
   },
   "outputs": [],
   "source": [
    "x = np.linspace(0, 10, 1000)\n",
    "plt.plot(x, x**2, label=r\"$\\xi\\sin\\theta$\")\n",
    "plt.xlabel(\"Position $x$\")\n",
    "plt.ylabel(\"$x^2$\")\n",
    "plt.legend()\n",
    "plt.show()"
   ]
  },
  {
   "cell_type": "markdown",
   "metadata": {
    "slideshow": {
     "slide_type": "slide"
    }
   },
   "source": [
    "## Sauvegarder un graphique\n",
    "Premièrement, il \"existe\" deux manière de sauvegarder: une graphique et une manuelle.\n",
    "\n",
    "Celle graphique consiste à afficher l'image avec `show` et ensuite cliquer sur la disquette pour ouvrir une fenêtre de sauvegarde. Celle manuelle consiste à utiliser `savefig` ou `imsave` (si on a une figure ou une image (*array* 2D)). C'est cette manière qui sera montrée."
   ]
  },
  {
   "cell_type": "markdown",
   "metadata": {
    "slideshow": {
     "slide_type": "subslide"
    }
   },
   "source": [
    "## Différents formats\n",
    "`savefig` est assez polivalent! On peut sauvegarder dans différents formats, dont `png` et `jpg`, mais aussi en `pdf` et `svg` pour une plus grande qualité d'image. Voici comment ça fonctionne!"
   ]
  },
  {
   "cell_type": "code",
   "execution_count": null,
   "metadata": {
    "slideshow": {
     "slide_type": "subslide"
    }
   },
   "outputs": [],
   "source": [
    "plt.clf()\n",
    "plt.plot([1,2,3], [1,2,3])\n",
    "plt.savefig(\"../data/test_sauvegarde.png\")  # On peut spécifier le format dans le nom\n",
    "plt.savefig(\"../data/test_sauvegarde_2\", format=\"pdf\")  # On peut spécifier le format avec \"format\""
   ]
  },
  {
   "cell_type": "markdown",
   "metadata": {
    "slideshow": {
     "slide_type": "subslide"
    }
   },
   "source": [
    "Attention! Spécifier le format avec `format`, mais ne pas ajouter d'extension laisse le nom tel quel (i.e. pas d'extension). C'est assez énervant!\n",
    "\n",
    "## Autre paramètres\n",
    "Il existe différent paramètres qui peuvent être important:\n",
    "- `dpi` (*dots per inches*) qui spécifie combien de pixels/points par pouce. Peut affecter la taille de l'image, mais aussi sa qualité visuelle\n",
    "- `facecolor` qui spécifie la couleur de la *face* (pas l'intérieur du graphique par contre!)\n",
    "- `transparent` qui spécifie la transparence de la figure (défaut à `False`)"
   ]
  },
  {
   "cell_type": "code",
   "execution_count": null,
   "metadata": {
    "slideshow": {
     "slide_type": "subslide"
    }
   },
   "outputs": [],
   "source": [
    "plt.clf()\n",
    "plt.plot([1,2,3], [1,2,3])\n",
    "plt.savefig(\"../data/test_dpi_defaut.png\")\n",
    "plt.savefig(\"../data/test_dpi_150.png\", dpi=150)\n",
    "plt.savefig(\"../data/test_facecolor_yellow.png\", facecolor=\"yellow\")\n",
    "plt.savefig(\"../data/test_transparent.png\", transparent=True)"
   ]
  },
  {
   "cell_type": "markdown",
   "metadata": {
    "slideshow": {
     "slide_type": "fragment"
    }
   },
   "source": [
    "## Sauvegarder une image\n",
    "Sauvegarder une image se fait avec `imsave` de `pyplot` (d'autres librairies peuvent être utilisées, dont `tifffile` avec aussi `imsave` ou parfois `imwrite`). Comme pour lire une image, sauvegarder une image peut être *difficile* dans le sens où il faut la lire correctement. Ainsi, je recommande utiliser des librairies efficace ou spécifique à un format (par exemple `tifffile` pour les `.tif/.tiff`)\n",
    "Concentrons-nous sur `pyplot`."
   ]
  },
  {
   "cell_type": "code",
   "execution_count": null,
   "metadata": {
    "slideshow": {
     "slide_type": "subslide"
    }
   },
   "outputs": [],
   "source": [
    "img = np.random.randint(0, 100, (1000, 1000))\n",
    "plt.imsave(\"../data/test_image.png\", img)"
   ]
  },
  {
   "cell_type": "markdown",
   "metadata": {
    "slideshow": {
     "slide_type": "subslide"
    }
   },
   "source": [
    "Un peu comme avec `savefig`, on peut spécifier le `dpi`, mais ne change pas l'image. C'est seulement inséré dans les méta données. De plus, on peut spécifier le format soit par l'extension ou le paramètre `format` (comme `savefig`)"
   ]
  },
  {
   "cell_type": "markdown",
   "metadata": {
    "slideshow": {
     "slide_type": "slide"
    }
   },
   "source": [
    "## Un pas plus loin\n",
    "### Plusieurs courbes sur un même graphique\n",
    "On a vu jusqu'à maintenant comment afficher une courbe et la modifier esthétiquement. Maintenant, voyons comment on peut en faire plusieurs sur un même graphique. C'est assez simple:"
   ]
  },
  {
   "cell_type": "code",
   "execution_count": null,
   "metadata": {
    "slideshow": {
     "slide_type": "subslide"
    }
   },
   "outputs": [],
   "source": [
    "vitesse = data_oscillateur.get(\"x'\")\n",
    "\n",
    "plt.plot(temps, position, label=\"Position\")\n",
    "plt.plot(temps, vitesse, label=\"Vitesse\")\n",
    "\n",
    "plt.legend()\n",
    "plt.show()"
   ]
  },
  {
   "cell_type": "markdown",
   "metadata": {
    "slideshow": {
     "slide_type": "subslide"
    }
   },
   "source": [
    "Il faut toutefois faire parfois attention à l'ordre d'affichage, aussi appelé le *z order*. On peut décider de cet ordre de deux manière:\n",
    "- Ce qui est *plot* en premier apparaît en premier\n",
    "- Modifier l'argument `zorder` (ordre d'apparition)\n",
    "\n",
    "Plus quelque chose est affiché tard, plus il sera à l'avant-plan. Ex:"
   ]
  },
  {
   "cell_type": "code",
   "execution_count": null,
   "metadata": {
    "slideshow": {
     "slide_type": "subslide"
    }
   },
   "outputs": [],
   "source": [
    "plt.imshow(speckles)\n",
    "plt.imshow(sinus)\n",
    "plt.show()\n",
    "plt.imshow(speckles, zorder=10)\n",
    "plt.imshow(sinus, zorder=0)\n",
    "plt.show()"
   ]
  },
  {
   "cell_type": "markdown",
   "metadata": {
    "slideshow": {
     "slide_type": "subslide"
    }
   },
   "source": [
    "On peut aussi mélanger les types de graphiques, par exemple mettre une image avec un nuage de points!"
   ]
  },
  {
   "cell_type": "code",
   "execution_count": null,
   "metadata": {
    "slideshow": {
     "slide_type": "subslide"
    }
   },
   "outputs": [],
   "source": [
    "def gauss(x, a, mu, sigma):\n",
    "    return a * np.exp(-(x - mu) ** 2 / (2 * sigma ** 2))\n",
    "\n",
    "n, bins, _ = plt.hist(data_gauss.y, bins=int(len(data_gauss.y) ** .5), label=\"Histogramme des données\")\n",
    "\n",
    "x_s = np.linspace(min(data_gauss.y), max(data_gauss.y), 100)\n",
    "amplitude = max(n)\n",
    "moyenne = np.mean(data_gauss.y)\n",
    "ecartType = np.std(data_gauss.y)\n",
    "y_s = gauss(x_s, amplitude, moyenne, ecartType)\n",
    "\n",
    "plt.plot(x_s, y_s, label=\"Gaussienne tirée de l'histogramme\\n$y = A\\\\exp\\\\left(-\\\\frac{(x-\\\\mu)^2}{2\\\\sigma^2}\\\\right)$\")\n",
    "plt.legend(loc=\"lower left\")\n",
    "\n",
    "plt.show()\n"
   ]
  },
  {
   "cell_type": "markdown",
   "metadata": {
    "slideshow": {
     "slide_type": "subslide"
    }
   },
   "source": [
    "### Subplots\n",
    "Les *subplots* sont essentiellement plusieurs courbes dans des graphiques différents, mais \"dans la même fenêtre\" d'affichage. On doit faire une petite excursion dans la nature orientée objet de *pyplot*. Il faut savoir que lorsqu'on fait `plot` et autres, on effectue une modification d'un objet d'instance `Axes`. C'est sur cet objet que s'opère les diverses méthodes de création de graphiques. De plus, il y a ce qu'on appelle la figure, qui est, comme son nom l'indique, la figure qui regroupe les différents axes. Un axe peut avoir plusieurs courbes, comme ce qu'on a fait précédemment, mais ce qui est intéressant est d'utiliser plusieurs axes. Ce n'est pas bien compliqué!"
   ]
  },
  {
   "cell_type": "code",
   "execution_count": null,
   "metadata": {
    "slideshow": {
     "slide_type": "subslide"
    }
   },
   "outputs": [],
   "source": [
    "fig, axes = plt.subplots(2, 1) # On crée 2 axes (une figure séparée en 2 verticalement)\n",
    "axes[0].hist(data_gauss.y)\n",
    "axes[1].scatter([1,2,3], [1,2,3])\n",
    "plt.show()"
   ]
  },
  {
   "cell_type": "code",
   "execution_count": null,
   "metadata": {
    "slideshow": {
     "slide_type": "subslide"
    }
   },
   "outputs": [],
   "source": [
    "fig, (ax1, ax2) = plt.subplots(1, 2, sharey=True) # On crée 2 axes (une figure séparée en 2 horizontalement)\n",
    "\n",
    "ax1.plot([1,2,3], [3,2,1])\n",
    "ax2.plot([1,2,3], [1,2,3])\n",
    "plt.show()"
   ]
  },
  {
   "cell_type": "code",
   "execution_count": null,
   "metadata": {
    "slideshow": {
     "slide_type": "subslide"
    }
   },
   "outputs": [],
   "source": [
    "fig, axes = plt.subplots(2,2, sharex=True, sharey=True)\n",
    "axes[0,0].imshow(speckles, cmap=\"gray\")\n",
    "axes[0,1].imshow(speckles, cmap=\"jet\")\n",
    "axes[1,0].imshow(speckles, cmap=\"inferno\")\n",
    "axes[1,1].imshow(speckles, cmap=\"summer\")\n",
    "axes[0,0].set_xlabel(\"Position $x$\")\n",
    "plt.show()"
   ]
  },
  {
   "cell_type": "markdown",
   "metadata": {
    "slideshow": {
     "slide_type": "slide"
    }
   },
   "source": [
    "## Graphiques 3D\n",
    "Ce n'est pas super compliqué de faire un graphique 3D. Utilisons un autre ensemble de données:"
   ]
  },
  {
   "cell_type": "code",
   "execution_count": null,
   "metadata": {
    "slideshow": {
     "slide_type": "subslide"
    }
   },
   "outputs": [],
   "source": [
    "data_lorenz = pd.read_csv(\"../data/lorenz.csv\")\n",
    "\n",
    "t = data_lorenz.t\n",
    "x = data_lorenz.x\n",
    "y = data_lorenz.y\n",
    "z = data_lorenz.z\n",
    "\n",
    "fig, (ax1, ax2, ax3) = plt.subplots(3, 1, sharex=True)\n",
    "ax1.plot(t, x)\n",
    "ax2.plot(t, y)\n",
    "ax3.plot(t, z)\n",
    "ax1.set_ylabel(\"$x$\")\n",
    "ax2.set_ylabel(\"$y$\")\n",
    "ax3.set_ylabel(\"$z$\")\n",
    "ax3.set_xlabel(\"Temps\")\n",
    "plt.show()"
   ]
  },
  {
   "cell_type": "code",
   "execution_count": null,
   "metadata": {
    "slideshow": {
     "slide_type": "subslide"
    }
   },
   "outputs": [],
   "source": [
    "%matplotlib notebook\n",
    "fig = plt.figure()\n",
    "ax = fig.add_subplot(111, projection='3d')\n",
    "ax.plot(x,y,z)\n",
    "plt.show()"
   ]
  },
  {
   "cell_type": "markdown",
   "metadata": {
    "slideshow": {
     "slide_type": "subslide"
    }
   },
   "source": [
    "On peut faire tout plein de graphiques 3D, comme des surfaces, des formes géométriques, etc. On peut aussi mélanger les subplots, mettre du 2D avec 3D!"
   ]
  }
 ],
 "metadata": {
  "celltoolbar": "Diaporama",
  "kernelspec": {
   "display_name": "Python 3",
   "language": "python",
   "name": "python3"
  },
  "language_info": {
   "codemirror_mode": {
    "name": "ipython",
    "version": 3
   },
   "file_extension": ".py",
   "mimetype": "text/x-python",
   "name": "python",
   "nbconvert_exporter": "python",
   "pygments_lexer": "ipython3",
   "version": "3.8.5"
  }
 },
 "nbformat": 4,
 "nbformat_minor": 4
}